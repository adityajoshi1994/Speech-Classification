{
 "cells": [
  {
   "cell_type": "code",
   "execution_count": null,
   "metadata": {
    "collapsed": true
   },
   "outputs": [],
   "source": [
    "Author: Aditya Joshi"
   ]
  },
  {
   "cell_type": "code",
   "execution_count": 1,
   "metadata": {
    "collapsed": true
   },
   "outputs": [],
   "source": [
    "import nltk\n",
    "import sklearn\n",
    "import numpy as np\n",
    "from nltk.stem import PorterStemmer\n",
    "from nltk.stem import WordNetLemmatizer\n",
    "from nltk import word_tokenize\n",
    "from sklearn import preprocessing\n",
    "from sklearn.linear_model import LogisticRegression\n",
    "from sklearn import metrics\n",
    "from sklearn.feature_extraction.text import CountVectorizer\n",
    "from sklearn.feature_extraction.text import TfidfTransformer\n",
    "import tarfile\n",
    "\n",
    "import matplotlib\n",
    "import matplotlib.pyplot as plt\n",
    "\n",
    "%matplotlib inline"
   ]
  },
  {
   "cell_type": "code",
   "execution_count": 14,
   "metadata": {
    "collapsed": true
   },
   "outputs": [],
   "source": [
    "import sklearn\n",
    "\n",
    "def train_classifier(X, y, reg_coef=1):\n",
    "    \"\"\"Train a classifier using the given training data.\n",
    "    Trains a logistic regression on the input data with default parameters.\n",
    "    \"\"\"\n",
    "    cls2 = LogisticRegression(C=reg_coef)\n",
    "    cls2.fit(X, y)\n",
    "    return cls2\n",
    "\n",
    "def evaluate(X, yt, cls2):\n",
    "    \"\"\"Evaluated a classifier on the given labeled data using accuracy.\"\"\"\n",
    "    yp = cls2.predict(X)\n",
    "    acc = metrics.accuracy_score(yt, yp)\n",
    "    print(\"Accuracy\", acc)\n",
    "    return acc"
   ]
  },
  {
   "cell_type": "code",
   "execution_count": 15,
   "metadata": {
    "collapsed": true
   },
   "outputs": [],
   "source": [
    "class StemTokenizer():\n",
    "    def __init__(self):\n",
    "        self.stemmer = PorterStemmer()\n",
    "\n",
    "    def __call__(self, doc):\n",
    "        return [self.stemmer.stem(t) for t in word_tokenize(doc)]"
   ]
  },
  {
   "cell_type": "code",
   "execution_count": 16,
   "metadata": {
    "collapsed": true
   },
   "outputs": [],
   "source": [
    "def read_files(tarfname):\n",
    "    tar = tarfile.open(tarfname, \"r:gz\")\n",
    "\n",
    "    class Data: pass\n",
    "\n",
    "    speech = Data()\n",
    "    print(\"-- train data\")\n",
    "    speech.train_data, speech.train_fnames, speech.train_labels = read_tsv(tar, \"train.tsv\")\n",
    "    print(\"-- dev data\")\n",
    "    speech.dev_data, speech.dev_fnames, speech.dev_labels = read_tsv(tar, \"dev.tsv\")\n",
    "    print(\"-- transforming data and labels\")\n",
    "    from sklearn.feature_extraction.text import CountVectorizer\n",
    "    from sklearn.feature_extraction.text import TfidfTransformer\n",
    "    speech.count_vect = CountVectorizer(tokenizer=StemTokenizer())\n",
    "    speech.trainX = speech.count_vect.fit_transform(speech.train_data)\n",
    "    speech.devX = speech.count_vect.transform(speech.dev_data)\n",
    "    \n",
    "    #TF-IDF transformation\n",
    "    speech.tfidf_transformer = TfidfTransformer(norm=None, smooth_idf=False)\n",
    "    speech.trainX_idf = speech.tfidf_transformer.fit_transform(speech.trainX)\n",
    "    speech.devX_idf = speech.tfidf_transformer.transform(speech.devX)\n",
    "\n",
    "    speech.le = preprocessing.LabelEncoder()\n",
    "    speech.le.fit(speech.train_labels)\n",
    "    speech.target_labels = speech.le.classes_\n",
    "    speech.trainy = speech.le.transform(speech.train_labels)\n",
    "    speech.devy = speech.le.transform(speech.dev_labels)\n",
    "    tar.close()\n",
    "    return speech\n",
    "\n",
    "\n",
    "def read_unlabeled(tarfname, speech):\n",
    "    \"\"\"Reads the unlabeled data.\n",
    "    The returned object contains three fields that represent the unlabeled data.\n",
    "    data: documents, represented as sequence of words\n",
    "    fnames: list of filenames, one for each document\n",
    "    X: bag of word vector for each document, using the speech.vectorizer\n",
    "    \"\"\"\n",
    "\n",
    "    tar = tarfile.open(tarfname, \"r:gz\")\n",
    "\n",
    "    class Data:\n",
    "        pass\n",
    "\n",
    "    unlabeled = Data()\n",
    "    unlabeled.data = []\n",
    "    unlabeled.fnames = []\n",
    "    for m in tar.getmembers():\n",
    "        if \"unlabeled\" in m.name and \".txt\" in m.name:\n",
    "            unlabeled.fnames.append(m.name)\n",
    "            unlabeled.data.append(read_instance(tar, m.name))\n",
    "    unlabeled.X = speech.count_vect.transform(unlabeled.data)\n",
    "    unlabeled.X_idf = speech.tfidf_transformer.transform(unlabeled.X)\n",
    "    tar.close()\n",
    "    return unlabeled\n",
    "\n",
    "\n",
    "def read_tsv(tar, fname):\n",
    "    member = tar.getmember(fname)\n",
    "    print(member.name)\n",
    "    tf = tar.extractfile(member)\n",
    "    data = []\n",
    "    labels = []\n",
    "    fnames = []\n",
    "    for line in tf:\n",
    "        line = line.decode(\"utf-8\")\n",
    "        (ifname, label) = line.strip().split(\"\\t\")\n",
    "        # print ifname, \":\", label\n",
    "        content = read_instance(tar, ifname)\n",
    "        labels.append(label)\n",
    "        fnames.append(ifname)\n",
    "        data.append(content)\n",
    "    return data, fnames, labels\n",
    "\n",
    "\n",
    "def write_pred_kaggle_file(unlabeled, cls, outfname, speech):\n",
    "    \"\"\"Writes the predictions in Kaggle format.\n",
    "    Given the unlabeled object, classifier, outputfilename, and the speech object,\n",
    "    this function write the predictions of the classifier on the unlabeled data and\n",
    "    writes it to the outputfilename. The speech object is required to ensure\n",
    "    consistent label names.\n",
    "    \"\"\"\n",
    "    yp = cls.predict(unlabeled.X_idf)\n",
    "    labels = speech.le.inverse_transform(yp)\n",
    "    f = open(outfname, 'w')\n",
    "    f.write(\"FileIndex,Category\\n\")\n",
    "    for i in range(len(unlabeled.fnames)):\n",
    "        fname = unlabeled.fnames[i]\n",
    "        # iid = file_to_id(fname)\n",
    "        f.write(str(i + 1))\n",
    "        f.write(\",\")\n",
    "        # f.write(fname)\n",
    "        # f.write(\",\")\n",
    "        f.write(labels[i])\n",
    "        f.write(\"\\n\")\n",
    "    f.close()\n",
    "\n",
    "\n",
    "def file_to_id(fname):\n",
    "    return str(int(fname.replace(\"unlabeled/\", \"\").replace(\"labeled/\", \"\").replace(\".txt\", \"\")))\n",
    "\n",
    "\n",
    "def write_gold_kaggle_file(tsvfile, outfname):\n",
    "    \"\"\"Writes the output Kaggle file of the truth.\n",
    "    You will not be able to run this code, since the tsvfile is not\n",
    "    accessible to you (it is the test labels).\n",
    "    \"\"\"\n",
    "    f = open(outfname, 'w')\n",
    "    f.write(\"FileIndex,Category\\n\")\n",
    "    i = 0\n",
    "    with open(tsvfile, 'r') as tf:\n",
    "        for line in tf:\n",
    "            (ifname, label) = line.strip().split(\"\\t\")\n",
    "            # iid = file_to_id(ifname)\n",
    "            i += 1\n",
    "            f.write(str(i))\n",
    "            f.write(\",\")\n",
    "            # f.write(ifname)\n",
    "            # f.write(\",\")\n",
    "            f.write(label)\n",
    "            f.write(\"\\n\")\n",
    "    f.close()\n",
    "\n",
    "\n",
    "def write_basic_kaggle_file(tsvfile, outfname):\n",
    "    \"\"\"Writes the output Kaggle file of the naive baseline.\n",
    "    This baseline predicts OBAMA_PRIMARY2008 for all the instances.\n",
    "    You will not be able to run this code, since the tsvfile is not\n",
    "    accessible to you (it is the test labels).\n",
    "    \"\"\"\n",
    "    f = open(outfname, 'w')\n",
    "    f.write(\"FileIndex,Category\\n\")\n",
    "    i = 0\n",
    "    with open(tsvfile, 'r') as tf:\n",
    "        for line in tf:\n",
    "            (ifname, label) = line.strip().split(\"\\t\")\n",
    "            i += 1\n",
    "            f.write(str(i))\n",
    "            f.write(\",\")\n",
    "            f.write(\"OBAMA_PRIMARY2008\")\n",
    "            f.write(\"\\n\")\n",
    "    f.close()\n",
    "\n",
    "def read_instance(tar, ifname):\n",
    "    inst = tar.getmember(ifname)\n",
    "    ifile = tar.extractfile(inst)\n",
    "    content = ifile.read().strip()\n",
    "    return content"
   ]
  },
  {
   "cell_type": "code",
   "execution_count": 11,
   "metadata": {
    "collapsed": true
   },
   "outputs": [],
   "source": [
    "from sklearn.model_selection import GridSearchCV\n",
    "def train_classifier(X, y,c):\n",
    "\t\"\"\"Train a classifier using the given training data.\n",
    "\tTrains a logistic regression on the input data with default parameters.\n",
    "\t\"\"\"\n",
    "\tfrom sklearn.linear_model import LogisticRegression\n",
    "\t#cls = LogisticRegression(penalty='l2', multi_class='ovr', class_weight ='balanced',solver='lbfgs', C = c)\n",
    "\tparam_grid = [{'tol': [10, 1, 0.1, 0.01, 0.001, 0.0001, 0.00001], 'C': [0.5, 1, 2.5, 10, 50]}]\n",
    "\tcls = GridSearchCV(LogisticRegression(penalty='l2',multi_class = 'ovr',class_weight ='balanced'), param_grid, refit='True')\n",
    "\tprint(\"Best Params\")\n",
    "\tprint(cls.best_estimator_)\n",
    "\tcls.fit(X, y)\n",
    "\treturn cls\n",
    "\n",
    "def evaluate(X, yt, cls):\n",
    "\t\"\"\"Evaluated a classifier on the given labeled data using accuracy.\"\"\"\n",
    "\tfrom sklearn import metrics\n",
    "\typ = cls.predict(X)\n",
    "\tacc = metrics.accuracy_score(yt, yp)\n",
    "\tprint(\"  Accuracy\", acc)"
   ]
  },
  {
   "cell_type": "code",
   "execution_count": 17,
   "metadata": {},
   "outputs": [
    {
     "name": "stdout",
     "output_type": "stream",
     "text": [
      "[0.001, 0.002, 0.004, 0.008, 0.016, 0.032, 0.064, 0.128, 0.256, 0.512, 1.024, 2.048, 4.096, 8.192]\n"
     ]
    }
   ],
   "source": [
    "regularization_coefs = []\n",
    "\n",
    "i=0.001\n",
    "coefs = []\n",
    "while i<10:\n",
    "    regularization_coefs.append(i)\n",
    "    i = i*2\n",
    "    \n",
    "print(regularization_coefs)"
   ]
  },
  {
   "cell_type": "code",
   "execution_count": 19,
   "metadata": {},
   "outputs": [
    {
     "name": "stdout",
     "output_type": "stream",
     "text": [
      "Reading data\n",
      "-- train data\n",
      "train.tsv\n",
      "-- dev data\n",
      "dev.tsv\n",
      "-- transforming data and labels\n"
     ]
    }
   ],
   "source": [
    "print(\"Reading data\")\n",
    "tarfname = \"/Users/adityajoshi/UCI/Stats NLP/speech.tar.gz\"\n",
    "speech = read_files(tarfname)"
   ]
  },
  {
   "cell_type": "code",
   "execution_count": 20,
   "metadata": {},
   "outputs": [
    {
     "name": "stdout",
     "output_type": "stream",
     "text": [
      "Reading unlabeled data\n"
     ]
    }
   ],
   "source": [
    "print(\"Reading unlabeled data\")\n",
    "unlabeled = read_unlabeled(tarfname, speech)"
   ]
  },
  {
   "cell_type": "code",
   "execution_count": 21,
   "metadata": {},
   "outputs": [
    {
     "data": {
      "text/plain": [
       "CountVectorizer(analyzer=u'word', binary=False, decode_error=u'strict',\n",
       "        dtype=<type 'numpy.int64'>, encoding=u'utf-8', input=u'content',\n",
       "        lowercase=True, max_df=1.0, max_features=None, min_df=1,\n",
       "        ngram_range=(1, 1), preprocessor=None, stop_words=None,\n",
       "        strip_accents=None, token_pattern=u'(?u)\\\\b\\\\w\\\\w+\\\\b',\n",
       "        tokenizer=<__main__.StemTokenizer instance at 0x109259e18>,\n",
       "        vocabulary=None)"
      ]
     },
     "execution_count": 21,
     "metadata": {},
     "output_type": "execute_result"
    }
   ],
   "source": [
    "speech.count_vect"
   ]
  },
  {
   "cell_type": "code",
   "execution_count": 25,
   "metadata": {},
   "outputs": [
    {
     "data": {
      "text/plain": [
       "<4370x6058 sparse matrix of type '<type 'numpy.float64'>'\n",
       "\twith 100491 stored elements in Compressed Sparse Row format>"
      ]
     },
     "execution_count": 25,
     "metadata": {},
     "output_type": "execute_result"
    }
   ],
   "source": [
    "speech.trainX_idf"
   ]
  },
  {
   "cell_type": "code",
   "execution_count": 26,
   "metadata": {
    "collapsed": true
   },
   "outputs": [],
   "source": [
    "unlabeled2 = unlabeled\n",
    "speech2 = speech"
   ]
  },
  {
   "cell_type": "code",
   "execution_count": 27,
   "metadata": {},
   "outputs": [
    {
     "name": "stdout",
     "output_type": "stream",
     "text": [
      "4370\n",
      "(4370,)\n",
      "m: 0\n",
      "training with 0% of unlabeled data\n",
      "('Accuracy', 0.95606407322654463)\n",
      "('Accuracy', 0.42995169082125606)\n",
      "8704\n",
      "(8704,)\n",
      "m: 4334\n",
      "training with 10.0% of unlabeled data\n",
      "('Accuracy', 0.95197610294117652)\n",
      "('Accuracy', 0.40096618357487923)\n",
      "13038\n",
      "(13038,)\n",
      "m: 8668\n",
      "training with 20.0% of unlabeled data\n",
      "('Accuracy', 0.95283018867924529)\n",
      "('Accuracy', 0.40096618357487923)\n",
      "17372\n",
      "(17372,)\n",
      "m: 13002\n",
      "training with 30.0% of unlabeled data\n",
      "('Accuracy', 0.95406401105226801)\n",
      "('Accuracy', 0.39130434782608697)\n",
      "21706\n",
      "(21706,)\n",
      "m: 17336\n",
      "training with 40.0% of unlabeled data\n",
      "('Accuracy', 0.95581866764949786)\n",
      "('Accuracy', 0.3888888888888889)\n",
      "26041\n",
      "(26041,)\n",
      "m: 21671\n",
      "training with 50.0% of unlabeled data\n",
      "('Accuracy', 0.95729810683153493)\n",
      "('Accuracy', 0.38164251207729466)\n",
      "30375\n",
      "(30375,)\n",
      "m: 26005\n",
      "training with 60.0% of unlabeled data\n",
      "('Accuracy', 0.95904526748971197)\n",
      "('Accuracy', 0.37922705314009664)\n",
      "34709\n",
      "(34709,)\n",
      "m: 30339\n",
      "training with 70.0% of unlabeled data\n",
      "('Accuracy', 0.96052896943155952)\n",
      "('Accuracy', 0.38164251207729466)\n",
      "39043\n",
      "(39043,)\n",
      "m: 34673\n",
      "training with 80.0% of unlabeled data\n",
      "('Accuracy', 0.96165765950362425)\n",
      "('Accuracy', 0.37922705314009664)\n",
      "43377\n",
      "(43377,)\n",
      "m: 39007\n",
      "training with 90.0% of unlabeled data\n",
      "('Accuracy', 0.96260691149687627)\n",
      "('Accuracy', 0.39130434782608697)\n",
      "47711\n",
      "(47711,)\n",
      "m: 43341\n",
      "training with 100.0% of unlabeled data\n",
      "('Accuracy', 0.96388673471526487)\n",
      "('Accuracy', 0.37922705314009664)\n"
     ]
    }
   ],
   "source": [
    "fraction = 0\n",
    "n = len(unlabeled.data)\n",
    "training_accuracy = []\n",
    "dev_accuracy = []\n",
    "new_data = speech.train_data\n",
    "new_labels = speech.trainy\n",
    "while fraction<1.0:\n",
    "    m = int(n*fraction)\n",
    "    print(len(new_data))\n",
    "    print(new_labels.shape)\n",
    "    print(\"m: %d\" % m)\n",
    "    # train on this new data\n",
    "    speech.count_vect = CountVectorizer(tokenizer=StemTokenizer())\n",
    "    speech.trainX = speech.count_vect.fit_transform(new_data)\n",
    "    speech.devX = speech.count_vect.transform(speech.dev_data)\n",
    "\n",
    "    speech.tfidf_transformer = TfidfTransformer(norm=None, smooth_idf=False)\n",
    "    speech.trainX_idf = speech.tfidf_transformer.fit_transform(speech.trainX)\n",
    "    speech.devX_idf = speech.tfidf_transformer.transform(speech.devX)\n",
    "\n",
    "    print(\"training with \"+str((fraction)*100) +\"% of unlabeled data\")\n",
    "    cls = train_classifier(speech.trainX_idf, new_labels,0.016)\n",
    "    training_accuracy.append(evaluate(speech.trainX_idf, new_labels, cls))\n",
    "    dev_accuracy.append(evaluate(speech.devX_idf, speech.devy, cls))\n",
    "    \n",
    "    # generate labels for unlabeled data\n",
    "    unlabeled.X = speech.count_vect.transform(unlabeled.data[m:])\n",
    "    unlabeled.X_idf = speech.tfidf_transformer.transform(unlabeled.X)\n",
    "    y_unlabeled = cls.predict(unlabeled.X_idf)\n",
    "    fraction = fraction+0.1\n",
    "    count = int(n*fraction)-m\n",
    "    new_labels = np.append(new_labels,y_unlabeled[0:count])\n",
    "    new_data = new_data+unlabeled.data[m:m+count]"
   ]
  },
  {
   "cell_type": "code",
   "execution_count": 28,
   "metadata": {},
   "outputs": [
    {
     "name": "stdout",
     "output_type": "stream",
     "text": [
      "11\n",
      "[0.95606407322654463, 0.95197610294117652, 0.95283018867924529, 0.95406401105226801, 0.95581866764949786, 0.95729810683153493, 0.95904526748971197, 0.96052896943155952, 0.96165765950362425, 0.96260691149687627, 0.96388673471526487]\n"
     ]
    }
   ],
   "source": [
    "print(len(dev_accuracy))\n",
    "print(training_accuracy)"
   ]
  },
  {
   "cell_type": "code",
   "execution_count": 29,
   "metadata": {},
   "outputs": [
    {
     "data": {
      "image/png": "[encoded data removed]",
      "text/plain": [
       "<matplotlib.figure.Figure at 0x10d714950>"
      ]
     },
     "metadata": {},
     "output_type": "display_data"
    }
   ],
   "source": [
    "plt.xlabel(\"% of unlabeled data used\")\n",
    "plt.ylabel(\"Prediction accuracy on dev. dataset\")\n",
    "plt.plot(np.arange(0,101,10),dev_accuracy,'g-s')\n",
    "plt.plot(np.arange(0,101,10),training_accuracy,'b-s')\n",
    "plt.axhline(y=0.4,ls='--')\n",
    "plt.show()"
   ]
  },
  {
   "cell_type": "code",
   "execution_count": 30,
   "metadata": {
    "collapsed": true
   },
   "outputs": [],
   "source": [
    "#speech = speech2\n",
    "unlabeled = unlabeled2"
   ]
  },
  {
   "cell_type": "code",
   "execution_count": 31,
   "metadata": {},
   "outputs": [
    {
     "name": "stdout",
     "output_type": "stream",
     "text": [
      "iteration #1\n",
      "('Accuracy', 0.95606407322654463)\n",
      "('Accuracy', 0.42995169082125606)\n",
      "(43342, 19)\n",
      "4760\n",
      "iteration #2\n",
      "('Accuracy', 0.95714285714285718)\n",
      "('Accuracy', 0.42995169082125606)\n",
      "(42952, 19)\n",
      "5058\n",
      "iteration #3\n",
      "('Accuracy', 0.95689996045867931)\n",
      "('Accuracy', 0.43478260869565216)\n",
      "(42654, 19)\n",
      "5365\n",
      "iteration #4\n",
      "('Accuracy', 0.95582479030754897)\n",
      "('Accuracy', 0.42995169082125606)\n",
      "(42347, 19)\n",
      "5671\n",
      "iteration #5\n",
      "('Accuracy', 0.95432904249691408)\n",
      "('Accuracy', 0.41787439613526572)\n",
      "(42041, 19)\n",
      "5993\n",
      "iteration #6\n",
      "('Accuracy', 0.95311196395795095)\n",
      "('Accuracy', 0.41787439613526572)\n",
      "(41719, 19)\n",
      "6350\n",
      "iteration #7\n",
      "('Accuracy', 0.952755905511811)\n",
      "('Accuracy', 0.41304347826086957)\n",
      "(41362, 19)\n",
      "6759\n",
      "iteration #8\n",
      "('Accuracy', 0.9529516200621394)\n",
      "('Accuracy', 0.40579710144927539)\n",
      "(40953, 19)\n",
      "7301\n",
      "iteration #9\n",
      "('Accuracy', 0.9537049719216546)\n",
      "('Accuracy', 0.40338164251207731)\n",
      "(40411, 19)\n",
      "7914\n",
      "iteration #10\n",
      "('Accuracy', 0.95425827647207484)\n",
      "('Accuracy', 0.40338164251207731)\n",
      "(39798, 19)\n",
      "8609\n",
      "iteration #11\n",
      "('Accuracy', 0.95388546869555113)\n",
      "('Accuracy', 0.40096618357487923)\n",
      "(39103, 19)\n",
      "9364\n",
      "iteration #12\n",
      "('Accuracy', 0.95322511747116612)\n",
      "('Accuracy', 0.39855072463768115)\n",
      "(38348, 19)\n",
      "10186\n",
      "iteration #13\n",
      "('Accuracy', 0.95277832318869038)\n",
      "('Accuracy', 0.39855072463768115)\n",
      "(37526, 19)\n",
      "11017\n",
      "iteration #14\n",
      "('Accuracy', 0.95270944903331212)\n",
      "('Accuracy', 0.40338164251207731)\n",
      "(36695, 19)\n",
      "11920\n",
      "iteration #15\n",
      "('Accuracy', 0.95268456375838928)\n",
      "('Accuracy', 0.39371980676328505)\n",
      "(35792, 19)\n",
      "12826\n",
      "iteration #16\n",
      "('Accuracy', 0.95314205520037421)\n",
      "('Accuracy', 0.40096618357487923)\n",
      "(34886, 19)\n",
      "13715\n",
      "iteration #17\n",
      "('Accuracy', 0.95289828654757569)\n",
      "('Accuracy', 0.39371980676328505)\n",
      "(33997, 19)\n",
      "14596\n",
      "iteration #18\n",
      "('Accuracy', 0.95368594135379559)\n",
      "('Accuracy', 0.38405797101449274)\n",
      "(33116, 19)\n",
      "15413\n",
      "iteration #19\n",
      "('Accuracy', 0.95393498994355419)\n",
      "('Accuracy', 0.3719806763285024)\n",
      "(32299, 19)\n",
      "16183\n",
      "iteration #20\n",
      "('Accuracy', 0.9537786566149663)\n",
      "('Accuracy', 0.3671497584541063)\n",
      "(31529, 19)\n",
      "16895\n",
      "iteration #21\n",
      "('Accuracy', 0.9542468185853803)\n",
      "('Accuracy', 0.36231884057971014)\n",
      "(30817, 19)\n",
      "17543\n",
      "iteration #22\n",
      "('Accuracy', 0.95377073476600349)\n",
      "('Accuracy', 0.36473429951690822)\n",
      "(30169, 19)\n",
      "18128\n",
      "iteration #23\n",
      "('Accuracy', 0.95344218887908205)\n",
      "('Accuracy', 0.35748792270531399)\n",
      "(29584, 19)\n",
      "18657\n",
      "iteration #24\n",
      "('Accuracy', 0.95347590716621111)\n",
      "('Accuracy', 0.35748792270531399)\n"
     ]
    },
    {
     "ename": "KeyboardInterrupt",
     "evalue": "",
     "output_type": "error",
     "traceback": [
      "\u001b[0;31m---------------------------------------------------------------------------\u001b[0m",
      "\u001b[0;31mKeyboardInterrupt\u001b[0m                         Traceback (most recent call last)",
      "\u001b[0;32m<ipython-input-31-86c976665d6f>\u001b[0m in \u001b[0;36m<module>\u001b[0;34m()\u001b[0m\n\u001b[1;32m     26\u001b[0m     \u001b[0mtraining_accuracy\u001b[0m\u001b[0;34m.\u001b[0m\u001b[0mappend\u001b[0m\u001b[0;34m(\u001b[0m\u001b[0mevaluate\u001b[0m\u001b[0;34m(\u001b[0m\u001b[0mspeech\u001b[0m\u001b[0;34m.\u001b[0m\u001b[0mtrainX_idf\u001b[0m\u001b[0;34m,\u001b[0m \u001b[0mnew_labels\u001b[0m\u001b[0;34m,\u001b[0m \u001b[0mcls\u001b[0m\u001b[0;34m)\u001b[0m\u001b[0;34m)\u001b[0m\u001b[0;34m\u001b[0m\u001b[0m\n\u001b[1;32m     27\u001b[0m     \u001b[0mdev_accuracy\u001b[0m\u001b[0;34m.\u001b[0m\u001b[0mappend\u001b[0m\u001b[0;34m(\u001b[0m\u001b[0mevaluate\u001b[0m\u001b[0;34m(\u001b[0m\u001b[0mspeech\u001b[0m\u001b[0;34m.\u001b[0m\u001b[0mdevX_idf\u001b[0m\u001b[0;34m,\u001b[0m \u001b[0mspeech\u001b[0m\u001b[0;34m.\u001b[0m\u001b[0mdevy\u001b[0m\u001b[0;34m,\u001b[0m \u001b[0mcls\u001b[0m\u001b[0;34m)\u001b[0m\u001b[0;34m)\u001b[0m\u001b[0;34m\u001b[0m\u001b[0m\n\u001b[0;32m---> 28\u001b[0;31m     \u001b[0munlabeled\u001b[0m\u001b[0;34m.\u001b[0m\u001b[0mX\u001b[0m \u001b[0;34m=\u001b[0m \u001b[0mspeech\u001b[0m\u001b[0;34m.\u001b[0m\u001b[0mcount_vect\u001b[0m\u001b[0;34m.\u001b[0m\u001b[0mtransform\u001b[0m\u001b[0;34m(\u001b[0m\u001b[0munlabeled\u001b[0m\u001b[0;34m.\u001b[0m\u001b[0mdata\u001b[0m\u001b[0;34m)\u001b[0m\u001b[0;34m\u001b[0m\u001b[0m\n\u001b[0m\u001b[1;32m     29\u001b[0m     \u001b[0munlabeled\u001b[0m\u001b[0;34m.\u001b[0m\u001b[0mX_idf\u001b[0m \u001b[0;34m=\u001b[0m \u001b[0mspeech\u001b[0m\u001b[0;34m.\u001b[0m\u001b[0mtfidf_transformer\u001b[0m\u001b[0;34m.\u001b[0m\u001b[0mtransform\u001b[0m\u001b[0;34m(\u001b[0m\u001b[0munlabeled\u001b[0m\u001b[0;34m.\u001b[0m\u001b[0mX\u001b[0m\u001b[0;34m)\u001b[0m\u001b[0;34m\u001b[0m\u001b[0m\n\u001b[1;32m     30\u001b[0m     \u001b[0my_prob\u001b[0m \u001b[0;34m=\u001b[0m \u001b[0mcls\u001b[0m\u001b[0;34m.\u001b[0m\u001b[0mpredict_proba\u001b[0m\u001b[0;34m(\u001b[0m\u001b[0munlabeled\u001b[0m\u001b[0;34m.\u001b[0m\u001b[0mX_idf\u001b[0m\u001b[0;34m)\u001b[0m\u001b[0;34m\u001b[0m\u001b[0m\n",
      "\u001b[0;32m/Users/adityajoshi/anaconda2/lib/python2.7/site-packages/sklearn/feature_extraction/text.pyc\u001b[0m in \u001b[0;36mtransform\u001b[0;34m(self, raw_documents)\u001b[0m\n\u001b[1;32m    921\u001b[0m \u001b[0;34m\u001b[0m\u001b[0m\n\u001b[1;32m    922\u001b[0m         \u001b[0;31m# use the same matrix-building strategy as fit_transform\u001b[0m\u001b[0;34m\u001b[0m\u001b[0;34m\u001b[0m\u001b[0m\n\u001b[0;32m--> 923\u001b[0;31m         \u001b[0m_\u001b[0m\u001b[0;34m,\u001b[0m \u001b[0mX\u001b[0m \u001b[0;34m=\u001b[0m \u001b[0mself\u001b[0m\u001b[0;34m.\u001b[0m\u001b[0m_count_vocab\u001b[0m\u001b[0;34m(\u001b[0m\u001b[0mraw_documents\u001b[0m\u001b[0;34m,\u001b[0m \u001b[0mfixed_vocab\u001b[0m\u001b[0;34m=\u001b[0m\u001b[0mTrue\u001b[0m\u001b[0;34m)\u001b[0m\u001b[0;34m\u001b[0m\u001b[0m\n\u001b[0m\u001b[1;32m    924\u001b[0m         \u001b[0;32mif\u001b[0m \u001b[0mself\u001b[0m\u001b[0;34m.\u001b[0m\u001b[0mbinary\u001b[0m\u001b[0;34m:\u001b[0m\u001b[0;34m\u001b[0m\u001b[0m\n\u001b[1;32m    925\u001b[0m             \u001b[0mX\u001b[0m\u001b[0;34m.\u001b[0m\u001b[0mdata\u001b[0m\u001b[0;34m.\u001b[0m\u001b[0mfill\u001b[0m\u001b[0;34m(\u001b[0m\u001b[0;36m1\u001b[0m\u001b[0;34m)\u001b[0m\u001b[0;34m\u001b[0m\u001b[0m\n",
      "\u001b[0;32m/Users/adityajoshi/anaconda2/lib/python2.7/site-packages/sklearn/feature_extraction/text.pyc\u001b[0m in \u001b[0;36m_count_vocab\u001b[0;34m(self, raw_documents, fixed_vocab)\u001b[0m\n\u001b[1;32m    790\u001b[0m         \u001b[0;32mfor\u001b[0m \u001b[0mdoc\u001b[0m \u001b[0;32min\u001b[0m \u001b[0mraw_documents\u001b[0m\u001b[0;34m:\u001b[0m\u001b[0;34m\u001b[0m\u001b[0m\n\u001b[1;32m    791\u001b[0m             \u001b[0mfeature_counter\u001b[0m \u001b[0;34m=\u001b[0m \u001b[0;34m{\u001b[0m\u001b[0;34m}\u001b[0m\u001b[0;34m\u001b[0m\u001b[0m\n\u001b[0;32m--> 792\u001b[0;31m             \u001b[0;32mfor\u001b[0m \u001b[0mfeature\u001b[0m \u001b[0;32min\u001b[0m \u001b[0manalyze\u001b[0m\u001b[0;34m(\u001b[0m\u001b[0mdoc\u001b[0m\u001b[0;34m)\u001b[0m\u001b[0;34m:\u001b[0m\u001b[0;34m\u001b[0m\u001b[0m\n\u001b[0m\u001b[1;32m    793\u001b[0m                 \u001b[0;32mtry\u001b[0m\u001b[0;34m:\u001b[0m\u001b[0;34m\u001b[0m\u001b[0m\n\u001b[1;32m    794\u001b[0m                     \u001b[0mfeature_idx\u001b[0m \u001b[0;34m=\u001b[0m \u001b[0mvocabulary\u001b[0m\u001b[0;34m[\u001b[0m\u001b[0mfeature\u001b[0m\u001b[0;34m]\u001b[0m\u001b[0;34m\u001b[0m\u001b[0m\n",
      "\u001b[0;32m/Users/adityajoshi/anaconda2/lib/python2.7/site-packages/sklearn/feature_extraction/text.pyc\u001b[0m in \u001b[0;36m<lambda>\u001b[0;34m(doc)\u001b[0m\n\u001b[1;32m    264\u001b[0m \u001b[0;34m\u001b[0m\u001b[0m\n\u001b[1;32m    265\u001b[0m             return lambda doc: self._word_ngrams(\n\u001b[0;32m--> 266\u001b[0;31m                 tokenize(preprocess(self.decode(doc))), stop_words)\n\u001b[0m\u001b[1;32m    267\u001b[0m \u001b[0;34m\u001b[0m\u001b[0m\n\u001b[1;32m    268\u001b[0m         \u001b[0;32melse\u001b[0m\u001b[0;34m:\u001b[0m\u001b[0;34m\u001b[0m\u001b[0m\n",
      "\u001b[0;32m<ipython-input-15-2ba2c47824e5>\u001b[0m in \u001b[0;36m__call__\u001b[0;34m(self, doc)\u001b[0m\n\u001b[1;32m      4\u001b[0m \u001b[0;34m\u001b[0m\u001b[0m\n\u001b[1;32m      5\u001b[0m     \u001b[0;32mdef\u001b[0m \u001b[0m__call__\u001b[0m\u001b[0;34m(\u001b[0m\u001b[0mself\u001b[0m\u001b[0;34m,\u001b[0m \u001b[0mdoc\u001b[0m\u001b[0;34m)\u001b[0m\u001b[0;34m:\u001b[0m\u001b[0;34m\u001b[0m\u001b[0m\n\u001b[0;32m----> 6\u001b[0;31m         \u001b[0;32mreturn\u001b[0m \u001b[0;34m[\u001b[0m\u001b[0mself\u001b[0m\u001b[0;34m.\u001b[0m\u001b[0mstemmer\u001b[0m\u001b[0;34m.\u001b[0m\u001b[0mstem\u001b[0m\u001b[0;34m(\u001b[0m\u001b[0mt\u001b[0m\u001b[0;34m)\u001b[0m \u001b[0;32mfor\u001b[0m \u001b[0mt\u001b[0m \u001b[0;32min\u001b[0m \u001b[0mword_tokenize\u001b[0m\u001b[0;34m(\u001b[0m\u001b[0mdoc\u001b[0m\u001b[0;34m)\u001b[0m\u001b[0;34m]\u001b[0m\u001b[0;34m\u001b[0m\u001b[0m\n\u001b[0m",
      "\u001b[0;32m/Users/adityajoshi/anaconda2/lib/python2.7/site-packages/nltk/tokenize/__init__.pyc\u001b[0m in \u001b[0;36mword_tokenize\u001b[0;34m(text, language, preserve_line)\u001b[0m\n\u001b[1;32m    128\u001b[0m     \u001b[0msentences\u001b[0m \u001b[0;34m=\u001b[0m \u001b[0;34m[\u001b[0m\u001b[0mtext\u001b[0m\u001b[0;34m]\u001b[0m \u001b[0;32mif\u001b[0m \u001b[0mpreserve_line\u001b[0m \u001b[0;32melse\u001b[0m \u001b[0msent_tokenize\u001b[0m\u001b[0;34m(\u001b[0m\u001b[0mtext\u001b[0m\u001b[0;34m,\u001b[0m \u001b[0mlanguage\u001b[0m\u001b[0;34m)\u001b[0m\u001b[0;34m\u001b[0m\u001b[0m\n\u001b[1;32m    129\u001b[0m     return [token for sent in sentences\n\u001b[0;32m--> 130\u001b[0;31m             for token in _treebank_word_tokenizer.tokenize(sent)]\n\u001b[0m",
      "\u001b[0;32m/Users/adityajoshi/anaconda2/lib/python2.7/site-packages/nltk/tokenize/treebank.pyc\u001b[0m in \u001b[0;36mtokenize\u001b[0;34m(self, text, convert_parentheses, return_str)\u001b[0m\n\u001b[1;32m    109\u001b[0m \u001b[0;34m\u001b[0m\u001b[0m\n\u001b[1;32m    110\u001b[0m     \u001b[0;32mdef\u001b[0m \u001b[0mtokenize\u001b[0m\u001b[0;34m(\u001b[0m\u001b[0mself\u001b[0m\u001b[0;34m,\u001b[0m \u001b[0mtext\u001b[0m\u001b[0;34m,\u001b[0m \u001b[0mconvert_parentheses\u001b[0m\u001b[0;34m=\u001b[0m\u001b[0mFalse\u001b[0m\u001b[0;34m,\u001b[0m \u001b[0mreturn_str\u001b[0m\u001b[0;34m=\u001b[0m\u001b[0mFalse\u001b[0m\u001b[0;34m)\u001b[0m\u001b[0;34m:\u001b[0m\u001b[0;34m\u001b[0m\u001b[0m\n\u001b[0;32m--> 111\u001b[0;31m         \u001b[0;32mfor\u001b[0m \u001b[0mregexp\u001b[0m\u001b[0;34m,\u001b[0m \u001b[0msubstitution\u001b[0m \u001b[0;32min\u001b[0m \u001b[0mself\u001b[0m\u001b[0;34m.\u001b[0m\u001b[0mSTARTING_QUOTES\u001b[0m\u001b[0;34m:\u001b[0m\u001b[0;34m\u001b[0m\u001b[0m\n\u001b[0m\u001b[1;32m    112\u001b[0m             \u001b[0mtext\u001b[0m \u001b[0;34m=\u001b[0m \u001b[0mregexp\u001b[0m\u001b[0;34m.\u001b[0m\u001b[0msub\u001b[0m\u001b[0;34m(\u001b[0m\u001b[0msubstitution\u001b[0m\u001b[0;34m,\u001b[0m \u001b[0mtext\u001b[0m\u001b[0;34m)\u001b[0m\u001b[0;34m\u001b[0m\u001b[0m\n\u001b[1;32m    113\u001b[0m \u001b[0;34m\u001b[0m\u001b[0m\n",
      "\u001b[0;31mKeyboardInterrupt\u001b[0m: "
     ]
    }
   ],
   "source": [
    "iterations = 1\n",
    "visited = []\n",
    "reg_coefficient =  0.016\n",
    "n = len(unlabeled.data)\n",
    "training_accuracy = []\n",
    "dev_accuracy = []\n",
    "size = []\n",
    "new_data = speech.train_data\n",
    "new_labels = speech.trainy\n",
    "\n",
    "while True:\n",
    "    print(\"iteration #%d\" % iterations)\n",
    "    new_unlabeled_data = []\n",
    "    new_unlabeled_labels = []\n",
    "    count = 0\n",
    "    # train on this new data\n",
    "    speech.count_vect = CountVectorizer(tokenizer=StemTokenizer())\n",
    "    speech.trainX = speech.count_vect.fit_transform(new_data)\n",
    "    speech.devX = speech.count_vect.transform(speech.dev_data)\n",
    "\n",
    "    speech.tfidf_transformer = TfidfTransformer(norm=None, smooth_idf=False)\n",
    "    speech.trainX_idf = speech.tfidf_transformer.fit_transform(speech.trainX)\n",
    "    speech.devX_idf = speech.tfidf_transformer.transform(speech.devX)\n",
    "    \n",
    "    cls = train_classifier(speech.trainX_idf, new_labels,reg_coefficient)\n",
    "    training_accuracy.append(evaluate(speech.trainX_idf, new_labels, cls))\n",
    "    dev_accuracy.append(evaluate(speech.devX_idf, speech.devy, cls))\n",
    "    unlabeled.X = speech.count_vect.transform(unlabeled.data)\n",
    "    unlabeled.X_idf = speech.tfidf_transformer.transform(unlabeled.X)\n",
    "    y_prob = cls.predict_proba(unlabeled.X_idf)\n",
    "    print(y_prob.shape)\n",
    "    j=0\n",
    "    for p in y_prob:\n",
    "        if max(p)>=0.85:\n",
    "            #print(len(p))\n",
    "            new_unlabeled_data.append(unlabeled.data[j])\n",
    "            new_unlabeled_labels.append(np.argmax(p))\n",
    "            unlabeled.data.pop(j)\n",
    "            j = j-1\n",
    "            count = count+1\n",
    "        j = j+1\n",
    "        \n",
    "    if count==0 or len(unlabeled.data)==0:\n",
    "        break\n",
    "    size.append(count)\n",
    "    new_data = new_data + new_unlabeled_data\n",
    "    new_labels = np.append(new_labels,new_unlabeled_labels)\n",
    "    print(len(new_data))\n",
    "    iterations = iterations+1\n",
    "    \n",
    "print(\"total number of iterations: %d\" % iterations)\n",
    "plt.show()"
   ]
  },
  {
   "cell_type": "code",
   "execution_count": 32,
   "metadata": {},
   "outputs": [
    {
     "name": "stdout",
     "output_type": "stream",
     "text": [
      "total number of iterations: 24\n"
     ]
    }
   ],
   "source": [
    "print(\"total number of iterations: %d\" % iterations)\n",
    "plt.show()"
   ]
  },
  {
   "cell_type": "code",
   "execution_count": 33,
   "metadata": {},
   "outputs": [
    {
     "name": "stdout",
     "output_type": "stream",
     "text": [
      "24\n",
      "[0.95606407322654463, 0.95714285714285718, 0.95689996045867931, 0.95582479030754897, 0.95432904249691408, 0.95311196395795095, 0.952755905511811, 0.9529516200621394, 0.9537049719216546, 0.95425827647207484, 0.95388546869555113, 0.95322511747116612, 0.95277832318869038, 0.95270944903331212, 0.95268456375838928, 0.95314205520037421, 0.95289828654757569, 0.95368594135379559, 0.95393498994355419, 0.9537786566149663, 0.9542468185853803, 0.95377073476600349, 0.95344218887908205, 0.95347590716621111]\n",
      "number of unlabeled data points added in each iteration: [390, 298, 307, 306, 322, 357, 409, 542, 613, 695, 755, 822, 831, 903, 906, 889, 881, 817, 770, 712, 648, 585, 529]\n"
     ]
    }
   ],
   "source": [
    "print(len(dev_accuracy))\n",
    "print(training_accuracy)\n",
    "print(\"number of unlabeled data points added in each iteration: %s\" % str(size))"
   ]
  },
  {
   "cell_type": "code",
   "execution_count": 38,
   "metadata": {},
   "outputs": [
    {
     "data": {
      "image/png": "[encoded data removed]",
      "text/plain": [
       "<matplotlib.figure.Figure at 0x109bf9250>"
      ]
     },
     "metadata": {},
     "output_type": "display_data"
    }
   ],
   "source": [
    "plt.ylabel(\"Prediction Accuracy\")\n",
    "plt.xlabel(\"Number of iterations\")\n",
    "line2, = plt.plot(range(0,len(dev_accuracy)),dev_accuracy,c='g')\n",
    "line1, = plt.plot(range(0,len(training_accuracy)),training_accuracy,c='b')\n",
    "plt.legend([line1,line2],['Training accuracy', 'Dev. set accuracy'],loc='best')\n",
    "plt.show()"
   ]
  },
  {
   "cell_type": "code",
   "execution_count": null,
   "metadata": {
    "collapsed": true
   },
   "outputs": [],
   "source": [
    "print(\"Writing pred file\")\n",
    "unlabeled = unlabeled2\n",
    "unlabeled.X = speech.count_vect.transform(unlabeled.data)\n",
    "unlabeled.X_idf = speech.tfidf_transformer.transform(unlabeled.X)\n",
    "write_pred_kaggle_file(unlabeled, cls, \"/Users/adityajoshi/UCI/Stats NLP/speech-pred.csv\", speech)"
   ]
  },
  {
   "cell_type": "code",
   "execution_count": null,
   "metadata": {
    "collapsed": true
   },
   "outputs": [],
   "source": []
  }
 ],
 "metadata": {
  "kernelspec": {
   "display_name": "Python 2",
   "language": "python",
   "name": "python2"
  },
  "language_info": {
   "codemirror_mode": {
    "name": "ipython",
    "version": 2
   },
   "file_extension": ".py",
   "mimetype": "text/x-python",
   "name": "python",
   "nbconvert_exporter": "python",
   "pygments_lexer": "ipython2",
   "version": "2.7.13"
  }
 },
 "nbformat": 4,
 "nbformat_minor": 2
}
